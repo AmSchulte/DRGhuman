{
 "cells": [
  {
   "cell_type": "code",
   "execution_count": 1,
   "metadata": {},
   "outputs": [],
   "source": [
    "import deepflash2\n",
    "from deepflash2.learner import EnsembleLearner, get_files, Path\n",
    "from fastai.data.core import DataLoaders\n",
    "import pathlib\n",
    "import os\n",
    "import matplotlib.pyplot as plt\n",
    "import zarr\n",
    "from tqdm.auto import tqdm"
   ]
  },
  {
   "cell_type": "code",
   "execution_count": 2,
   "metadata": {},
   "outputs": [],
   "source": [
    "def ensemble_prediction(images_path, pred_path):\n",
    "    images_path_list = []\n",
    "    for filename in os.listdir(images_path):\n",
    "        images_path_list.append(os.path.join(images_path, filename))\n",
    "    image_path_list = [pathlib.Path(path) for path in images_path_list]\n",
    "    \n",
    "    el = EnsembleLearner(files=image_path_list, dl_kwargs={'num_workers':0})\n",
    "    el.load_ensemble(model_path)\n",
    "    results = el.get_ensemble_results(el.files, use_tta = True, export_dir = pred_path)\n",
    "    #el.show_ensemble_results()\n",
    "    \n",
    "    return results"
   ]
  },
  {
   "cell_type": "markdown",
   "metadata": {},
   "source": [
    "#### Path where the DL model is saved"
   ]
  },
  {
   "cell_type": "code",
   "execution_count": 3,
   "metadata": {},
   "outputs": [],
   "source": [
    "model_path = pathlib.Path(r\"H:\\human DRG\\Deepflash2\\NF\\Train\\Training\\LR 0.5\\models\")"
   ]
  },
  {
   "cell_type": "markdown",
   "metadata": {},
   "source": [
    "#### Prediction of the whole image dataset organized in respective subfolders"
   ]
  },
  {
   "cell_type": "code",
   "execution_count": null,
   "metadata": {
    "scrolled": true
   },
   "outputs": [],
   "source": [
    "rootdirs = [r'H:\\human DRG\\tif_data\\splitted']\n",
    "for rootdir in rootdirs:\n",
    "    for subdir, dirs, files in os.walk(rootdir):\n",
    "        #print(subdir)\n",
    "        if subdir.endswith('NF') and 'NF_Fabp7_GS' in subdir:\n",
    "            print(subdir)\n",
    "            images_path = subdir\n",
    "            pred_path = images_path[:-3]+'/NF_pred'\n",
    "            results = ensemble_prediction(images_path, pred_path)"
   ]
  },
  {
   "cell_type": "markdown",
   "metadata": {},
   "source": [
    "#### Prediction of test images"
   ]
  },
  {
   "cell_type": "code",
   "execution_count": null,
   "metadata": {},
   "outputs": [],
   "source": [
    "test_images_path = r'H:\\human DRG\\Deepflash2\\NF\\Test\\images'\n",
    "pred_path = test_images_path[:-3]+'/NF_pred'\n",
    "results = ensemble_prediction(test_images_path, pred_path)"
   ]
  },
  {
   "cell_type": "code",
   "execution_count": null,
   "metadata": {},
   "outputs": [],
   "source": []
  }
 ],
 "metadata": {
  "kernelspec": {
   "display_name": "Python 3 (ipykernel)",
   "language": "python",
   "name": "python3"
  },
  "language_info": {
   "codemirror_mode": {
    "name": "ipython",
    "version": 3
   },
   "file_extension": ".py",
   "mimetype": "text/x-python",
   "name": "python",
   "nbconvert_exporter": "python",
   "pygments_lexer": "ipython3",
   "version": "3.10.4"
  }
 },
 "nbformat": 4,
 "nbformat_minor": 4
}
