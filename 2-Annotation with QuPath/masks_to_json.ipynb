{
 "cells": [
  {
   "cell_type": "code",
   "execution_count": 1,
   "id": "2f7b84ef",
   "metadata": {},
   "outputs": [],
   "source": [
    "import os\n",
    "\n",
    "import pandas as pd, numpy as np\n",
    "from pathlib import Path\n",
    "import cv2\n",
    "import shapely\n",
    "from shapely.geometry import Polygon\n",
    "import geojson\n",
    "import matplotlib.pyplot as plt"
   ]
  },
  {
   "cell_type": "markdown",
   "id": "30dbf70b",
   "metadata": {},
   "source": [
    "#### Path where the masks are saved"
   ]
  },
  {
   "cell_type": "code",
   "execution_count": 2,
   "id": "987777f7",
   "metadata": {},
   "outputs": [],
   "source": [
    "path = r\"tif_data\\splitted\""
   ]
  },
  {
   "cell_type": "markdown",
   "id": "b0d2a1c0",
   "metadata": {},
   "source": [
    "#### Extract geojson coordinates from masks and save them at a defined folder"
   ]
  },
  {
   "cell_type": "code",
   "execution_count": null,
   "id": "6de3a64d",
   "metadata": {},
   "outputs": [],
   "source": [
    "for root, dirs, files in os.walk(path):\n",
    "    if 'NF_pred\\masks' in root and 'Fabp7_GS' in root:\n",
    "        for file in files:\n",
    "            filename = os.path.join(root, file)\n",
    "            mask = plt.imread(filename)\n",
    "            mask = np.uint8(mask)\n",
    "\n",
    "            contours, _ = cv2.findContours(mask, cv2.RETR_TREE, cv2.CHAIN_APPROX_SIMPLE)\n",
    "\n",
    "            polys = [Polygon(np.squeeze(contour)) for contour in contours if len(contour) > 2]\n",
    "\n",
    "            features = [{'type': 'Feature', \n",
    "                     'properties': {\"classification\": {\"colorRGB\": -2315298, \"name\": \"neurons\"}, \"isLocked\": False, \"measurements\": []}, \n",
    "                     'id': 'PathAnnotationObject', \n",
    "                     'geometry': shapely.geometry.mapping(p)} \n",
    "                    for p in polys]\n",
    "            \n",
    "            prefix = filename[18:-4].replace(\"\\\\\", '_')\n",
    "            # path were all json files are saved to\n",
    "            print('Qupath/Fabp7_NF_jsons/'+prefix+'.json')\n",
    "\n",
    "            with open(f'Qupath/Fabp7_NF_jsons/'+prefix+'.json', 'w') as outfile:\n",
    "                geojson.dump(features, outfile)"
   ]
  }
 ],
 "metadata": {
  "kernelspec": {
   "display_name": "Python 3",
   "language": "python",
   "name": "python3"
  },
  "language_info": {
   "codemirror_mode": {
    "name": "ipython",
    "version": 3
   },
   "file_extension": ".py",
   "mimetype": "text/x-python",
   "name": "python",
   "nbconvert_exporter": "python",
   "pygments_lexer": "ipython3",
   "version": "3.8.5"
  }
 },
 "nbformat": 4,
 "nbformat_minor": 5
}
