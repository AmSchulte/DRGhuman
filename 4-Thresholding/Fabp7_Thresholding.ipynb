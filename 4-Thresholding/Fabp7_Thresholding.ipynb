{
 "cells": [
  {
   "cell_type": "code",
   "execution_count": 1,
   "id": "c491f9c6",
   "metadata": {},
   "outputs": [],
   "source": [
    "import matplotlib.pyplot as plt\n",
    "import numpy as np\n",
    "import os\n",
    "\n",
    "from skimage import filters \n",
    "from skimage.morphology import disk\n",
    "from skimage.color import hsv2rgb\n",
    "from tifffile import imsave\n",
    "from PIL import Image"
   ]
  },
  {
   "cell_type": "markdown",
   "id": "2b9af73a",
   "metadata": {},
   "source": [
    "### Fabp7 images in \"rootdir\" folder are thresholded (function \"iba1_mask\") and masks are saved"
   ]
  },
  {
   "cell_type": "code",
   "execution_count": 2,
   "id": "6787636c",
   "metadata": {},
   "outputs": [],
   "source": [
    "def thresh_mask (img, saveto , filename):\n",
    "    enhanced = filters.unsharp_mask (img , radius = 20.0 , amount = 2 ) #sharpens the image and reduces background \n",
    "    otsu_thr = filters.threshold_otsu (enhanced) #set threshold\n",
    "    otsu = enhanced > otsu_thr #otsu as array \n",
    "    mask = filters.median (otsu , disk (2)) #reduce noise \n",
    "    \n",
    "    im = Image.fromarray (mask)\n",
    "    im.save (saveto + \"/\" + filename.replace (\"tif\" ,\"png\" ))\n",
    "    print (\"Titel:\\t\" , saveto + \"/\" + filename.replace (\"tif\" ,\"png\" ))"
   ]
  },
  {
   "cell_type": "code",
   "execution_count": null,
   "id": "6ce144c8",
   "metadata": {
    "scrolled": false
   },
   "outputs": [],
   "source": [
    "rootdir = r\"G:\\human DRG\\tif_data\\splitted\"  \n",
    "for dirpath , dirnames , filenames in os.walk (rootdir) : \n",
    "    if dirpath.endswith('Fabp7') and 'Fabp7_GS' in dirpath:\n",
    "        for filename in filenames:\n",
    "            img_path = os.path.join (dirpath, filename)\n",
    "            saveto = dirpath + \"_pred/masks\"\n",
    "            \n",
    "            try: #makes directory if it doesnt exist\n",
    "                os.makedirs (saveto)\n",
    "            except:\n",
    "                pass\n",
    "            img = plt.imread(img_path) \n",
    "            thresh_mask(img, saveto , filename)\n",
    "            "
   ]
  },
  {
   "cell_type": "code",
   "execution_count": null,
   "id": "85480607",
   "metadata": {},
   "outputs": [],
   "source": []
  }
 ],
 "metadata": {
  "kernelspec": {
   "display_name": "Python 3.8.8",
   "language": "python",
   "name": "python3"
  },
  "language_info": {
   "codemirror_mode": {
    "name": "ipython",
    "version": 3
   },
   "file_extension": ".py",
   "mimetype": "text/x-python",
   "name": "python",
   "nbconvert_exporter": "python",
   "pygments_lexer": "ipython3",
   "version": "3.8.8"
  },
  "vscode": {
   "interpreter": {
    "hash": "5ce86820dfd6614f7876e1ae6792339076397d44616d8029d518156b5dbb0044"
   }
  }
 },
 "nbformat": 4,
 "nbformat_minor": 5
}
