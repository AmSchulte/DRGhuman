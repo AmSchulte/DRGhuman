{
 "cells": [
  {
   "cell_type": "code",
   "execution_count": 1,
   "id": "c491f9c6",
   "metadata": {},
   "outputs": [],
   "source": [
    "import matplotlib.pyplot as plt\n",
    "import numpy as np\n",
    "import os\n",
    "\n",
    "from skimage import filters \n",
    "from skimage.morphology import disk\n",
    "from skimage.color import hsv2rgb\n",
    "from tifffile import imsave\n",
    "from PIL import Image\n"
   ]
  },
  {
   "cell_type": "code",
   "execution_count": 2,
   "id": "6787636c",
   "metadata": {},
   "outputs": [],
   "source": [
    "def iba1_mask (img, saveto , filename):\n",
    "    enhanced = filters.unsharp_mask (img , radius = 20.0 , amount = 2 ) #sharpens the image and reduces background \n",
    "    otsu_thr = filters.threshold_otsu (enhanced) #set threshold\n",
    "    otsu = enhanced > otsu_thr #otsu as array \n",
    "    mask = filters.median (otsu , disk (2)) #reduce noise \n",
    "    \n",
    "    im = Image.fromarray (mask)\n",
    "    im.save (saveto + \"/\" + filename.replace (\"tif\" ,\"png\" ))\n",
    "    print (\"Titel:\\t\" , saveto + \"/\" + filename.replace (\"tif\" ,\"png\" ))"
   ]
  },
  {
   "cell_type": "markdown",
   "id": "eddfec46",
   "metadata": {},
   "source": [
    "### Iba1 images in \"rootdir\" folder are thresholded (function \"iba1_mask\") and masks are saved"
   ]
  },
  {
   "cell_type": "code",
   "execution_count": null,
   "id": "6ce144c8",
   "metadata": {
    "scrolled": false
   },
   "outputs": [],
   "source": [
    "rootdir = r\"G:\\human DRG\\tif_data\\splitted\"  \n",
    "for dirpath , dirnames , filenames in os.walk (rootdir) : \n",
    "    if dirpath.endswith('Iba1'):\n",
    "        for filename in filenames:\n",
    "            img_path = os.path.join (dirpath, filename)\n",
    "            saveto = dirpath + \"_pred/masks\"\n",
    "            \n",
    "            try: #makes directory if it doesnt exist\n",
    "                os.makedirs (saveto)\n",
    "            except:\n",
    "                pass\n",
    "            img = plt.imread(img_path) \n",
    "            iba1_mask(img, saveto , filename)\n",
    "            "
   ]
  },
  {
   "cell_type": "markdown",
   "id": "9b4ccfbc",
   "metadata": {},
   "source": [
    "### substract NF mask from Iba1 image before thresholding"
   ]
  },
  {
   "cell_type": "code",
   "execution_count": 3,
   "id": "0ebf16ec",
   "metadata": {},
   "outputs": [],
   "source": [
    "def get_iba1_mask (img, savepath):\n",
    "    enhanced = filters.unsharp_mask (img , radius = 20.0 , amount = 2 ) #sharpens the image and reduces background \n",
    "    otsu_thr = filters.threshold_otsu (enhanced) #set threshold\n",
    "    otsu = enhanced > otsu_thr #otsu as array \n",
    "    mask = filters.median (otsu , disk (2)) #reduce noise \n",
    "    \n",
    "    im = Image.fromarray (mask)\n",
    "    im.save (savepath)\n",
    "    print (\"Titel:\\t\" , savepath)"
   ]
  },
  {
   "cell_type": "code",
   "execution_count": null,
   "id": "2a9abd22",
   "metadata": {},
   "outputs": [],
   "source": [
    "rootdir = r\"G:\\human DRG\\tif_data\\splitted\"  \n",
    "for dirpath , dirnames , filenames in os.walk (rootdir) : \n",
    "    if dirpath.endswith('Iba1'):\n",
    "        \n",
    "        saveto_dir = dirpath + \"_pred/masks_adj\"           \n",
    "        nf_mask_dir = saveto_dir.replace (\"Iba1_pred\" , \"NF_pred\")[:-4]\n",
    "        print(saveto_dir)\n",
    "        print(nf_mask_dir)\n",
    "  \n",
    "        try: #makes directory if it doesnt exist\n",
    "            os.makedirs (saveto_dir)\n",
    "        except:\n",
    "            pass\n",
    "        \n",
    "        for filename in filenames:\n",
    "            iba1_path = os.path.join (dirpath, filename)\n",
    "            filename_png = filename.replace (\"tif\" ,\"png\" )\n",
    "            nf_mask_path = os.path.join (nf_mask_dir, filename_png)\n",
    "            iba1_mask_path = os.path.join (saveto_dir, filename_png)\n",
    "            \n",
    "            iba1 = plt.imread(iba1_path) \n",
    "            nf_mask = plt.imread(nf_mask_path)\n",
    "            \n",
    "            # set iba1 image where neurons are to zero\n",
    "            iba1_adj = iba1.copy()\n",
    "            iba1_adj[nf_mask>0] = 0\n",
    "            \n",
    "            get_iba1_mask(iba1_adj, iba1_mask_path)"
   ]
  },
  {
   "cell_type": "code",
   "execution_count": null,
   "id": "26cc0cbb",
   "metadata": {},
   "outputs": [],
   "source": []
  }
 ],
 "metadata": {
  "kernelspec": {
   "display_name": "Python 3.8.8",
   "language": "python",
   "name": "python3"
  },
  "language_info": {
   "codemirror_mode": {
    "name": "ipython",
    "version": 3
   },
   "file_extension": ".py",
   "mimetype": "text/x-python",
   "name": "python",
   "nbconvert_exporter": "python",
   "pygments_lexer": "ipython3",
   "version": "3.8.8"
  },
  "vscode": {
   "interpreter": {
    "hash": "5ce86820dfd6614f7876e1ae6792339076397d44616d8029d518156b5dbb0044"
   }
  }
 },
 "nbformat": 4,
 "nbformat_minor": 5
}
